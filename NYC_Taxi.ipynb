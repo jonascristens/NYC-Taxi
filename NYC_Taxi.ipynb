{
 "cells": [
  {
   "cell_type": "markdown",
   "metadata": {},
   "source": [
    "#  NYC Taxi Dataset"
   ]
  },
  {
   "cell_type": "markdown",
   "metadata": {},
   "source": [
    "Answer some basic questions about a sample of the \"NYC Taxi Dataset\". The URLs were taken from https://github.com/toddwschneider/nyc-taxi-data/."
   ]
  },
  {
   "cell_type": "code",
   "execution_count": 1,
   "metadata": {
    "ExecuteTime": {
     "end_time": "2019-04-02T14:05:15.670172Z",
     "start_time": "2019-04-02T14:05:14.943247Z"
    }
   },
   "outputs": [],
   "source": [
    "import pandas as pd\n",
    "import matplotlib.pyplot as plt"
   ]
  },
  {
   "cell_type": "markdown",
   "metadata": {},
   "source": [
    "## 1. Load https://s3.amazonaws.com/nyc-tlc/trip+data/yellow_tripdata_2017-10.csv into pandas, using an appropriate column as an index and parsing the columns that have dates"
   ]
  },
  {
   "cell_type": "markdown",
   "metadata": {},
   "source": [
    "### Load the data and the columns tpep_pickup_datetime and tpep_dropoff_datetime as datetime columns. No index column specified because there is no unique index."
   ]
  },
  {
   "cell_type": "code",
   "execution_count": 2,
   "metadata": {},
   "outputs": [],
   "source": [
    "df = pd.read_csv(\n",
    "    'https://s3.amazonaws.com/nyc-tlc/trip+data/yellow_tripdata_2017-10.csv', \n",
    "    parse_dates = ['tpep_pickup_datetime', 'tpep_dropoff_datetime']\n",
    ")"
   ]
  },
  {
   "cell_type": "markdown",
   "metadata": {},
   "source": [
    "## 2. Display the first 5 rows, a statistical summary, and the dtypes of the columns"
   ]
  },
  {
   "cell_type": "markdown",
   "metadata": {},
   "source": [
    "### Display the first 5 rows"
   ]
  },
  {
   "cell_type": "code",
   "execution_count": 3,
   "metadata": {},
   "outputs": [
    {
     "data": {
      "text/html": [
       "<div>\n",
       "<style scoped>\n",
       "    .dataframe tbody tr th:only-of-type {\n",
       "        vertical-align: middle;\n",
       "    }\n",
       "\n",
       "    .dataframe tbody tr th {\n",
       "        vertical-align: top;\n",
       "    }\n",
       "\n",
       "    .dataframe thead th {\n",
       "        text-align: right;\n",
       "    }\n",
       "</style>\n",
       "<table border=\"1\" class=\"dataframe\">\n",
       "  <thead>\n",
       "    <tr style=\"text-align: right;\">\n",
       "      <th></th>\n",
       "      <th>VendorID</th>\n",
       "      <th>tpep_pickup_datetime</th>\n",
       "      <th>tpep_dropoff_datetime</th>\n",
       "      <th>passenger_count</th>\n",
       "      <th>trip_distance</th>\n",
       "      <th>RatecodeID</th>\n",
       "      <th>store_and_fwd_flag</th>\n",
       "      <th>PULocationID</th>\n",
       "      <th>DOLocationID</th>\n",
       "      <th>payment_type</th>\n",
       "      <th>fare_amount</th>\n",
       "      <th>extra</th>\n",
       "      <th>mta_tax</th>\n",
       "      <th>tip_amount</th>\n",
       "      <th>tolls_amount</th>\n",
       "      <th>improvement_surcharge</th>\n",
       "      <th>total_amount</th>\n",
       "    </tr>\n",
       "  </thead>\n",
       "  <tbody>\n",
       "    <tr>\n",
       "      <th>0</th>\n",
       "      <td>1</td>\n",
       "      <td>2017-10-01 00:01:50</td>\n",
       "      <td>2017-10-01 00:14:13</td>\n",
       "      <td>1</td>\n",
       "      <td>2.00</td>\n",
       "      <td>1</td>\n",
       "      <td>N</td>\n",
       "      <td>142</td>\n",
       "      <td>233</td>\n",
       "      <td>2</td>\n",
       "      <td>10.0</td>\n",
       "      <td>0.5</td>\n",
       "      <td>0.5</td>\n",
       "      <td>0.00</td>\n",
       "      <td>0.0</td>\n",
       "      <td>0.3</td>\n",
       "      <td>11.30</td>\n",
       "    </tr>\n",
       "    <tr>\n",
       "      <th>1</th>\n",
       "      <td>1</td>\n",
       "      <td>2017-10-01 00:02:43</td>\n",
       "      <td>2017-10-01 00:08:35</td>\n",
       "      <td>2</td>\n",
       "      <td>2.30</td>\n",
       "      <td>1</td>\n",
       "      <td>N</td>\n",
       "      <td>142</td>\n",
       "      <td>166</td>\n",
       "      <td>1</td>\n",
       "      <td>8.0</td>\n",
       "      <td>0.5</td>\n",
       "      <td>0.5</td>\n",
       "      <td>1.85</td>\n",
       "      <td>0.0</td>\n",
       "      <td>0.3</td>\n",
       "      <td>11.15</td>\n",
       "    </tr>\n",
       "    <tr>\n",
       "      <th>2</th>\n",
       "      <td>1</td>\n",
       "      <td>2017-10-01 00:12:08</td>\n",
       "      <td>2017-10-01 00:25:49</td>\n",
       "      <td>3</td>\n",
       "      <td>2.80</td>\n",
       "      <td>1</td>\n",
       "      <td>N</td>\n",
       "      <td>151</td>\n",
       "      <td>262</td>\n",
       "      <td>1</td>\n",
       "      <td>13.0</td>\n",
       "      <td>0.5</td>\n",
       "      <td>0.5</td>\n",
       "      <td>1.72</td>\n",
       "      <td>0.0</td>\n",
       "      <td>0.3</td>\n",
       "      <td>16.02</td>\n",
       "    </tr>\n",
       "    <tr>\n",
       "      <th>3</th>\n",
       "      <td>2</td>\n",
       "      <td>2017-10-01 00:00:25</td>\n",
       "      <td>2017-10-01 00:11:24</td>\n",
       "      <td>1</td>\n",
       "      <td>1.97</td>\n",
       "      <td>1</td>\n",
       "      <td>N</td>\n",
       "      <td>100</td>\n",
       "      <td>229</td>\n",
       "      <td>1</td>\n",
       "      <td>9.5</td>\n",
       "      <td>0.5</td>\n",
       "      <td>0.5</td>\n",
       "      <td>1.00</td>\n",
       "      <td>0.0</td>\n",
       "      <td>0.3</td>\n",
       "      <td>11.80</td>\n",
       "    </tr>\n",
       "    <tr>\n",
       "      <th>4</th>\n",
       "      <td>2</td>\n",
       "      <td>2017-10-01 00:15:30</td>\n",
       "      <td>2017-10-01 00:25:11</td>\n",
       "      <td>1</td>\n",
       "      <td>2.17</td>\n",
       "      <td>1</td>\n",
       "      <td>N</td>\n",
       "      <td>141</td>\n",
       "      <td>142</td>\n",
       "      <td>1</td>\n",
       "      <td>9.0</td>\n",
       "      <td>0.5</td>\n",
       "      <td>0.5</td>\n",
       "      <td>2.06</td>\n",
       "      <td>0.0</td>\n",
       "      <td>0.3</td>\n",
       "      <td>12.36</td>\n",
       "    </tr>\n",
       "  </tbody>\n",
       "</table>\n",
       "</div>"
      ],
      "text/plain": [
       "   VendorID tpep_pickup_datetime tpep_dropoff_datetime  passenger_count  \\\n",
       "0         1  2017-10-01 00:01:50   2017-10-01 00:14:13                1   \n",
       "1         1  2017-10-01 00:02:43   2017-10-01 00:08:35                2   \n",
       "2         1  2017-10-01 00:12:08   2017-10-01 00:25:49                3   \n",
       "3         2  2017-10-01 00:00:25   2017-10-01 00:11:24                1   \n",
       "4         2  2017-10-01 00:15:30   2017-10-01 00:25:11                1   \n",
       "\n",
       "   trip_distance  RatecodeID store_and_fwd_flag  PULocationID  DOLocationID  \\\n",
       "0           2.00           1                  N           142           233   \n",
       "1           2.30           1                  N           142           166   \n",
       "2           2.80           1                  N           151           262   \n",
       "3           1.97           1                  N           100           229   \n",
       "4           2.17           1                  N           141           142   \n",
       "\n",
       "   payment_type  fare_amount  extra  mta_tax  tip_amount  tolls_amount  \\\n",
       "0             2         10.0    0.5      0.5        0.00           0.0   \n",
       "1             1          8.0    0.5      0.5        1.85           0.0   \n",
       "2             1         13.0    0.5      0.5        1.72           0.0   \n",
       "3             1          9.5    0.5      0.5        1.00           0.0   \n",
       "4             1          9.0    0.5      0.5        2.06           0.0   \n",
       "\n",
       "   improvement_surcharge  total_amount  \n",
       "0                    0.3         11.30  \n",
       "1                    0.3         11.15  \n",
       "2                    0.3         16.02  \n",
       "3                    0.3         11.80  \n",
       "4                    0.3         12.36  "
      ]
     },
     "execution_count": 3,
     "metadata": {},
     "output_type": "execute_result"
    }
   ],
   "source": [
    "df.head()"
   ]
  },
  {
   "cell_type": "markdown",
   "metadata": {},
   "source": [
    "### A statistical summary"
   ]
  },
  {
   "cell_type": "code",
   "execution_count": 4,
   "metadata": {},
   "outputs": [
    {
     "data": {
      "text/html": [
       "<div>\n",
       "<style scoped>\n",
       "    .dataframe tbody tr th:only-of-type {\n",
       "        vertical-align: middle;\n",
       "    }\n",
       "\n",
       "    .dataframe tbody tr th {\n",
       "        vertical-align: top;\n",
       "    }\n",
       "\n",
       "    .dataframe thead th {\n",
       "        text-align: right;\n",
       "    }\n",
       "</style>\n",
       "<table border=\"1\" class=\"dataframe\">\n",
       "  <thead>\n",
       "    <tr style=\"text-align: right;\">\n",
       "      <th></th>\n",
       "      <th>VendorID</th>\n",
       "      <th>passenger_count</th>\n",
       "      <th>trip_distance</th>\n",
       "      <th>RatecodeID</th>\n",
       "      <th>PULocationID</th>\n",
       "      <th>DOLocationID</th>\n",
       "      <th>payment_type</th>\n",
       "      <th>fare_amount</th>\n",
       "      <th>extra</th>\n",
       "      <th>mta_tax</th>\n",
       "      <th>tip_amount</th>\n",
       "      <th>tolls_amount</th>\n",
       "      <th>improvement_surcharge</th>\n",
       "      <th>total_amount</th>\n",
       "    </tr>\n",
       "  </thead>\n",
       "  <tbody>\n",
       "    <tr>\n",
       "      <th>count</th>\n",
       "      <td>9.768815e+06</td>\n",
       "      <td>9.768815e+06</td>\n",
       "      <td>9.768815e+06</td>\n",
       "      <td>9.768815e+06</td>\n",
       "      <td>9.768815e+06</td>\n",
       "      <td>9.768815e+06</td>\n",
       "      <td>9.768815e+06</td>\n",
       "      <td>9.768815e+06</td>\n",
       "      <td>9.768815e+06</td>\n",
       "      <td>9.768815e+06</td>\n",
       "      <td>9.768815e+06</td>\n",
       "      <td>9.768815e+06</td>\n",
       "      <td>9.768815e+06</td>\n",
       "      <td>9.768815e+06</td>\n",
       "    </tr>\n",
       "    <tr>\n",
       "      <th>mean</th>\n",
       "      <td>1.549415e+00</td>\n",
       "      <td>1.617468e+00</td>\n",
       "      <td>2.964095e+00</td>\n",
       "      <td>1.045011e+00</td>\n",
       "      <td>1.630937e+02</td>\n",
       "      <td>1.612835e+02</td>\n",
       "      <td>1.328251e+00</td>\n",
       "      <td>1.338078e+01</td>\n",
       "      <td>3.300792e-01</td>\n",
       "      <td>4.972671e-01</td>\n",
       "      <td>1.883138e+00</td>\n",
       "      <td>3.479925e-01</td>\n",
       "      <td>2.996095e-01</td>\n",
       "      <td>1.674133e+01</td>\n",
       "    </tr>\n",
       "    <tr>\n",
       "      <th>std</th>\n",
       "      <td>4.975522e-01</td>\n",
       "      <td>1.259104e+00</td>\n",
       "      <td>3.814063e+00</td>\n",
       "      <td>4.748632e-01</td>\n",
       "      <td>6.624797e+01</td>\n",
       "      <td>7.015271e+01</td>\n",
       "      <td>4.901289e-01</td>\n",
       "      <td>3.078552e+02</td>\n",
       "      <td>4.644125e-01</td>\n",
       "      <td>1.177005e-01</td>\n",
       "      <td>2.634506e+00</td>\n",
       "      <td>1.696558e+00</td>\n",
       "      <td>1.438805e-02</td>\n",
       "      <td>3.079748e+02</td>\n",
       "    </tr>\n",
       "    <tr>\n",
       "      <th>min</th>\n",
       "      <td>1.000000e+00</td>\n",
       "      <td>0.000000e+00</td>\n",
       "      <td>0.000000e+00</td>\n",
       "      <td>1.000000e+00</td>\n",
       "      <td>1.000000e+00</td>\n",
       "      <td>1.000000e+00</td>\n",
       "      <td>1.000000e+00</td>\n",
       "      <td>-4.600000e+02</td>\n",
       "      <td>-5.800000e+01</td>\n",
       "      <td>-5.000000e-01</td>\n",
       "      <td>-4.100000e+01</td>\n",
       "      <td>-1.500000e+01</td>\n",
       "      <td>-3.000000e-01</td>\n",
       "      <td>-4.603000e+02</td>\n",
       "    </tr>\n",
       "    <tr>\n",
       "      <th>25%</th>\n",
       "      <td>1.000000e+00</td>\n",
       "      <td>1.000000e+00</td>\n",
       "      <td>1.000000e+00</td>\n",
       "      <td>1.000000e+00</td>\n",
       "      <td>1.140000e+02</td>\n",
       "      <td>1.120000e+02</td>\n",
       "      <td>1.000000e+00</td>\n",
       "      <td>6.500000e+00</td>\n",
       "      <td>0.000000e+00</td>\n",
       "      <td>5.000000e-01</td>\n",
       "      <td>0.000000e+00</td>\n",
       "      <td>0.000000e+00</td>\n",
       "      <td>3.000000e-01</td>\n",
       "      <td>8.760000e+00</td>\n",
       "    </tr>\n",
       "    <tr>\n",
       "      <th>50%</th>\n",
       "      <td>2.000000e+00</td>\n",
       "      <td>1.000000e+00</td>\n",
       "      <td>1.650000e+00</td>\n",
       "      <td>1.000000e+00</td>\n",
       "      <td>1.620000e+02</td>\n",
       "      <td>1.620000e+02</td>\n",
       "      <td>1.000000e+00</td>\n",
       "      <td>9.500000e+00</td>\n",
       "      <td>0.000000e+00</td>\n",
       "      <td>5.000000e-01</td>\n",
       "      <td>1.360000e+00</td>\n",
       "      <td>0.000000e+00</td>\n",
       "      <td>3.000000e-01</td>\n",
       "      <td>1.225000e+01</td>\n",
       "    </tr>\n",
       "    <tr>\n",
       "      <th>75%</th>\n",
       "      <td>2.000000e+00</td>\n",
       "      <td>2.000000e+00</td>\n",
       "      <td>3.070000e+00</td>\n",
       "      <td>1.000000e+00</td>\n",
       "      <td>2.330000e+02</td>\n",
       "      <td>2.330000e+02</td>\n",
       "      <td>2.000000e+00</td>\n",
       "      <td>1.500000e+01</td>\n",
       "      <td>5.000000e-01</td>\n",
       "      <td>5.000000e-01</td>\n",
       "      <td>2.460000e+00</td>\n",
       "      <td>0.000000e+00</td>\n",
       "      <td>3.000000e-01</td>\n",
       "      <td>1.830000e+01</td>\n",
       "    </tr>\n",
       "    <tr>\n",
       "      <th>max</th>\n",
       "      <td>2.000000e+00</td>\n",
       "      <td>9.000000e+00</td>\n",
       "      <td>1.178600e+03</td>\n",
       "      <td>9.900000e+01</td>\n",
       "      <td>2.650000e+02</td>\n",
       "      <td>2.650000e+02</td>\n",
       "      <td>4.000000e+00</td>\n",
       "      <td>8.616024e+05</td>\n",
       "      <td>9.600000e+01</td>\n",
       "      <td>2.500000e+02</td>\n",
       "      <td>4.445000e+02</td>\n",
       "      <td>9.296500e+02</td>\n",
       "      <td>1.000000e+00</td>\n",
       "      <td>8.616032e+05</td>\n",
       "    </tr>\n",
       "  </tbody>\n",
       "</table>\n",
       "</div>"
      ],
      "text/plain": [
       "           VendorID  passenger_count  trip_distance    RatecodeID  \\\n",
       "count  9.768815e+06     9.768815e+06   9.768815e+06  9.768815e+06   \n",
       "mean   1.549415e+00     1.617468e+00   2.964095e+00  1.045011e+00   \n",
       "std    4.975522e-01     1.259104e+00   3.814063e+00  4.748632e-01   \n",
       "min    1.000000e+00     0.000000e+00   0.000000e+00  1.000000e+00   \n",
       "25%    1.000000e+00     1.000000e+00   1.000000e+00  1.000000e+00   \n",
       "50%    2.000000e+00     1.000000e+00   1.650000e+00  1.000000e+00   \n",
       "75%    2.000000e+00     2.000000e+00   3.070000e+00  1.000000e+00   \n",
       "max    2.000000e+00     9.000000e+00   1.178600e+03  9.900000e+01   \n",
       "\n",
       "       PULocationID  DOLocationID  payment_type   fare_amount         extra  \\\n",
       "count  9.768815e+06  9.768815e+06  9.768815e+06  9.768815e+06  9.768815e+06   \n",
       "mean   1.630937e+02  1.612835e+02  1.328251e+00  1.338078e+01  3.300792e-01   \n",
       "std    6.624797e+01  7.015271e+01  4.901289e-01  3.078552e+02  4.644125e-01   \n",
       "min    1.000000e+00  1.000000e+00  1.000000e+00 -4.600000e+02 -5.800000e+01   \n",
       "25%    1.140000e+02  1.120000e+02  1.000000e+00  6.500000e+00  0.000000e+00   \n",
       "50%    1.620000e+02  1.620000e+02  1.000000e+00  9.500000e+00  0.000000e+00   \n",
       "75%    2.330000e+02  2.330000e+02  2.000000e+00  1.500000e+01  5.000000e-01   \n",
       "max    2.650000e+02  2.650000e+02  4.000000e+00  8.616024e+05  9.600000e+01   \n",
       "\n",
       "            mta_tax    tip_amount  tolls_amount  improvement_surcharge  \\\n",
       "count  9.768815e+06  9.768815e+06  9.768815e+06           9.768815e+06   \n",
       "mean   4.972671e-01  1.883138e+00  3.479925e-01           2.996095e-01   \n",
       "std    1.177005e-01  2.634506e+00  1.696558e+00           1.438805e-02   \n",
       "min   -5.000000e-01 -4.100000e+01 -1.500000e+01          -3.000000e-01   \n",
       "25%    5.000000e-01  0.000000e+00  0.000000e+00           3.000000e-01   \n",
       "50%    5.000000e-01  1.360000e+00  0.000000e+00           3.000000e-01   \n",
       "75%    5.000000e-01  2.460000e+00  0.000000e+00           3.000000e-01   \n",
       "max    2.500000e+02  4.445000e+02  9.296500e+02           1.000000e+00   \n",
       "\n",
       "       total_amount  \n",
       "count  9.768815e+06  \n",
       "mean   1.674133e+01  \n",
       "std    3.079748e+02  \n",
       "min   -4.603000e+02  \n",
       "25%    8.760000e+00  \n",
       "50%    1.225000e+01  \n",
       "75%    1.830000e+01  \n",
       "max    8.616032e+05  "
      ]
     },
     "execution_count": 4,
     "metadata": {},
     "output_type": "execute_result"
    }
   ],
   "source": [
    "df.describe()"
   ]
  },
  {
   "cell_type": "markdown",
   "metadata": {},
   "source": [
    "### The dtypes of the columns"
   ]
  },
  {
   "cell_type": "code",
   "execution_count": 5,
   "metadata": {},
   "outputs": [
    {
     "data": {
      "text/plain": [
       "VendorID                          int64\n",
       "tpep_pickup_datetime     datetime64[ns]\n",
       "tpep_dropoff_datetime    datetime64[ns]\n",
       "passenger_count                   int64\n",
       "trip_distance                   float64\n",
       "RatecodeID                        int64\n",
       "store_and_fwd_flag               object\n",
       "PULocationID                      int64\n",
       "DOLocationID                      int64\n",
       "payment_type                      int64\n",
       "fare_amount                     float64\n",
       "extra                           float64\n",
       "mta_tax                         float64\n",
       "tip_amount                      float64\n",
       "tolls_amount                    float64\n",
       "improvement_surcharge           float64\n",
       "total_amount                    float64\n",
       "dtype: object"
      ]
     },
     "execution_count": 5,
     "metadata": {},
     "output_type": "execute_result"
    }
   ],
   "source": [
    "df.dtypes"
   ]
  },
  {
   "cell_type": "markdown",
   "metadata": {},
   "source": [
    "## 3. Do you find any inconsistency in fares or distance data? If so, remove them from the dataset"
   ]
  },
  {
   "cell_type": "markdown",
   "metadata": {},
   "source": [
    "### Outlier\n",
    "An outlier is an observation that lies an abnormal distance from other values in a random sample from a population. In a sense, this definition leaves it up to the analyst (or a consensus process) to decide what will be considered abnormal. Before abnormal observations can be singled out, it is necessary to characterize normal observations.\n",
    "\n",
    "### Box plot construction\t\n",
    "The box plot is a useful graphical display for describing the behavior of the data in the middle as well as at the ends of the distributions. The box plot uses the median and the lower and upper quartiles (defined as the 25th and 75th percentiles). If the lower quartile is Q1 and the upper quartile is Q3, then the difference (Q3 - Q1) is called the interquartile range or IQ.\n",
    "\n",
    "### Box plots with fences\t\n",
    "A box plot is constructed by drawing a box between the upper and lower quartiles with a solid line drawn across the box to locate the median. The following quantities (called fences) are needed for identifying extreme values in the tails of the distribution: \n",
    "* lower inner fence: Q1 - 1.5*IQ\n",
    "* upper inner fence: Q3 + 1.5*IQ\n",
    "\n",
    "### Outlier detection criteria\t\n",
    "A point beyond an inner fence on either side is considered a mild outlier.\n",
    "\n",
    "Source: https://www.itl.nist.gov/div898/handbook/prc/section1/prc16.htm"
   ]
  },
  {
   "cell_type": "markdown",
   "metadata": {},
   "source": [
    "### Abnormal values:\n",
    "* Fare_amount <= 0 & fare_amount < Q1 - IQR \\* 1.5 and fare_amount > Q3 + IQR \\* 1.5 \n",
    "* trip_distance <= 0 & trip_distance < Q1 - IQR \\* 1.5 and trip_distance > Q3 + IQR \\* 1.5 \n",
    "\n",
    "In order to clean the inconsistencies I used the mild outlier definition used in boxplots to determine the top limit and lower limit. The top limit = Q3 + IQR \\* 1.5 and the lower limit = Q1 - IQR \\* 1.5. After analysing the data a bit deeper I found that using the mild limits was the best solution to make sure that no abnormal values are included, like trip_distance greater than 1 000.\n",
    "Note: for the fare_amount and trip_distance I had to define an extra lower limit which defines that the fare_amount and trip_distance should be greater than 0. See the cleaning chapter."
   ]
  },
  {
   "cell_type": "code",
   "execution_count": 6,
   "metadata": {},
   "outputs": [],
   "source": [
    "def det_outliers(df, column):\n",
    "    \"\"\"\n",
    "    param 1: df = a Pandas DataFrame\n",
    "    \n",
    "    param 2: column = the column of the DataFrame of which you want the calculate the top and lower limit\n",
    "    \n",
    "    return: the lower limit and upper limit in a tupple format (lower_limit, top_limit)\n",
    "    \"\"\"\n",
    "    Q1 = df[column].quantile(0.25)\n",
    "    Q3 = df[column].quantile(0.75)\n",
    "    \n",
    "    IQR = Q3 - Q1\n",
    "    \n",
    "    lower_limit = Q1 - IQR * 1.5 \n",
    "    top_limit = Q3 + IQR * 1.5 \n",
    "    \n",
    "    print('The lower limit of {} = {}'.format(column, lower_limit))\n",
    "    print('The top limit of {} = {}'.format(column, top_limit))\n",
    "    \n",
    "    return (lower_limit, top_limit)"
   ]
  },
  {
   "cell_type": "markdown",
   "metadata": {},
   "source": [
    "### Fare amount analysis"
   ]
  },
  {
   "cell_type": "markdown",
   "metadata": {},
   "source": [
    "#### Plot the distribution of the fare_amount column"
   ]
  },
  {
   "cell_type": "code",
   "execution_count": 7,
   "metadata": {
    "scrolled": true
   },
   "outputs": [
    {
     "data": {
      "image/png": "[encoded data removed]",
      "text/plain": [
       "<Figure size 432x288 with 1 Axes>"
      ]
     },
     "metadata": {},
     "output_type": "display_data"
    }
   ],
   "source": [
    "df.boxplot(column='fare_amount')\n",
    "plt.title('Fare amount spread')\n",
    "plt.ylabel('Fare amount')\n",
    "plt.show()"
   ]
  },
  {
   "cell_type": "markdown",
   "metadata": {},
   "source": [
    "There are some fare_amount values that are very high."
   ]
  },
  {
   "cell_type": "markdown",
   "metadata": {},
   "source": [
    "####  Get the minimum fare_amount (fare amounts below or equal to zero are not possible)"
   ]
  },
  {
   "cell_type": "code",
   "execution_count": 8,
   "metadata": {
    "scrolled": false
   },
   "outputs": [
    {
     "name": "stdout",
     "output_type": "stream",
     "text": [
      "The minimum fare_amount = -460.0\n"
     ]
    }
   ],
   "source": [
    "print('The minimum fare_amount = {}'.format(df['fare_amount'].min()))"
   ]
  },
  {
   "cell_type": "markdown",
   "metadata": {},
   "source": [
    "There is a fare_amount value that is negative which is not possible."
   ]
  },
  {
   "cell_type": "markdown",
   "metadata": {},
   "source": [
    "#### Retrieve all the rows where the fare_amout is less than or equal to 0 and calculate the amount of records"
   ]
  },
  {
   "cell_type": "code",
   "execution_count": 9,
   "metadata": {
    "scrolled": true
   },
   "outputs": [
    {
     "name": "stdout",
     "output_type": "stream",
     "text": [
      "The amount of fare_amount that are 0 or less = 7491\n"
     ]
    }
   ],
   "source": [
    "print('The amount of fare_amount that are 0 or less = {}'.format(len(df.loc[df['fare_amount'] <= 0.0])))\n"
   ]
  },
  {
   "cell_type": "markdown",
   "metadata": {},
   "source": [
    "There are a lot of fare_amount values which are 0 or less which is not possible."
   ]
  },
  {
   "cell_type": "markdown",
   "metadata": {},
   "source": [
    "#### Get the maximum fare_amount ==> a fare amount: 861602.44 is impossible"
   ]
  },
  {
   "cell_type": "code",
   "execution_count": 10,
   "metadata": {
    "scrolled": false
   },
   "outputs": [
    {
     "name": "stdout",
     "output_type": "stream",
     "text": [
      "The maximum fare_amount = 861602.44\n"
     ]
    }
   ],
   "source": [
    "# a fare amout: 861602.44 is impossible\n",
    "print('The maximum fare_amount = {}'.format(df['fare_amount'].max()))"
   ]
  },
  {
   "cell_type": "markdown",
   "metadata": {},
   "source": [
    "The maximum fare_amount is extremely high which is not possible."
   ]
  },
  {
   "cell_type": "markdown",
   "metadata": {},
   "source": [
    "#### Determine the limits for fare_amount"
   ]
  },
  {
   "cell_type": "code",
   "execution_count": 11,
   "metadata": {},
   "outputs": [
    {
     "name": "stdout",
     "output_type": "stream",
     "text": [
      "The lower limit of fare_amount = -6.25\n",
      "The top limit of fare_amount = 27.75\n"
     ]
    }
   ],
   "source": [
    "fare_lower_limit, fare_top_limit = det_outliers(df, 'fare_amount')"
   ]
  },
  {
   "cell_type": "markdown",
   "metadata": {},
   "source": [
    "### Trip distance"
   ]
  },
  {
   "cell_type": "markdown",
   "metadata": {},
   "source": [
    "#### General trip_distance anlaysis"
   ]
  },
  {
   "cell_type": "markdown",
   "metadata": {},
   "source": [
    "Plot the distribution of the trip_distance column"
   ]
  },
  {
   "cell_type": "code",
   "execution_count": 12,
   "metadata": {
    "scrolled": false
   },
   "outputs": [
    {
     "data": {
      "image/png": "[encoded data removed]",
      "text/plain": [
       "<Figure size 432x288 with 1 Axes>"
      ]
     },
     "metadata": {},
     "output_type": "display_data"
    }
   ],
   "source": [
    "# some extreme outliers\n",
    "df.boxplot(column='trip_distance')\n",
    "plt.title('Trip distance spread')\n",
    "plt.ylabel('Trip distance')\n",
    "plt.show()"
   ]
  },
  {
   "cell_type": "markdown",
   "metadata": {},
   "source": [
    "There are some trip_distance values that are very high."
   ]
  },
  {
   "cell_type": "markdown",
   "metadata": {},
   "source": [
    "#### Get the minimum trip_distance (distances below or equal to zero are not possible)"
   ]
  },
  {
   "cell_type": "code",
   "execution_count": 13,
   "metadata": {
    "scrolled": true
   },
   "outputs": [
    {
     "name": "stdout",
     "output_type": "stream",
     "text": [
      "The minimum trip_distance = 0.0\n"
     ]
    }
   ],
   "source": [
    "print('The minimum trip_distance = {}'.format(df['trip_distance'].min()))"
   ]
  },
  {
   "cell_type": "markdown",
   "metadata": {},
   "source": [
    "A trip with 0 distance is not a trip."
   ]
  },
  {
   "cell_type": "markdown",
   "metadata": {},
   "source": [
    "#### Retrieve all the rows where the trip_distance is less than or equal to 0 and calculate the amount of records"
   ]
  },
  {
   "cell_type": "code",
   "execution_count": 14,
   "metadata": {
    "scrolled": true
   },
   "outputs": [
    {
     "name": "stdout",
     "output_type": "stream",
     "text": [
      "The amount of trip_distance that are 0 or less = 65200\n"
     ]
    }
   ],
   "source": [
    "print('The amount of trip_distance that are 0 or less = {}'.format(len(df.loc[df['trip_distance'] <= 0.0])))"
   ]
  },
  {
   "cell_type": "markdown",
   "metadata": {},
   "source": [
    "#### Get the maximum trip_distance"
   ]
  },
  {
   "cell_type": "code",
   "execution_count": 15,
   "metadata": {},
   "outputs": [
    {
     "name": "stdout",
     "output_type": "stream",
     "text": [
      "The maximum trip_distance = 1178.6\n"
     ]
    }
   ],
   "source": [
    "print('The maximum trip_distance = {}'.format(df['trip_distance'].max()))"
   ]
  },
  {
   "cell_type": "markdown",
   "metadata": {},
   "source": [
    "A trip distance this high is extreme."
   ]
  },
  {
   "cell_type": "markdown",
   "metadata": {},
   "source": [
    "#### Determine the limits for trip_distance"
   ]
  },
  {
   "cell_type": "code",
   "execution_count": 16,
   "metadata": {
    "scrolled": true
   },
   "outputs": [
    {
     "name": "stdout",
     "output_type": "stream",
     "text": [
      "The lower limit of trip_distance = -2.1049999999999995\n",
      "The top limit of trip_distance = 6.174999999999999\n"
     ]
    }
   ],
   "source": [
    "trip_lower_limit, trip_top_limit = det_outliers(df, 'trip_distance')"
   ]
  },
  {
   "cell_type": "markdown",
   "metadata": {},
   "source": [
    "### Cleaning"
   ]
  },
  {
   "cell_type": "markdown",
   "metadata": {},
   "source": [
    "#### Select only the rows where the fare_amout is smaller than the top_limit and greater than the lower_limit and greater than 0"
   ]
  },
  {
   "cell_type": "code",
   "execution_count": 17,
   "metadata": {},
   "outputs": [],
   "source": [
    "df = df.loc[(df['fare_amount']<fare_top_limit) & (df['fare_amount']>fare_lower_limit) & (df['fare_amount']>0)]"
   ]
  },
  {
   "cell_type": "markdown",
   "metadata": {},
   "source": [
    "Now the outliers for fare_amount are filtred out. Note there is an extra filter: fare_amount > 0 because the soft lower limit is smaller than 0."
   ]
  },
  {
   "cell_type": "markdown",
   "metadata": {},
   "source": [
    "#### Plot the data again: now the data is much more consistent"
   ]
  },
  {
   "cell_type": "code",
   "execution_count": 18,
   "metadata": {
    "scrolled": true
   },
   "outputs": [
    {
     "data": {
      "image/png": "[encoded data removed]",
      "text/plain": [
       "<Figure size 432x288 with 1 Axes>"
      ]
     },
     "metadata": {},
     "output_type": "display_data"
    }
   ],
   "source": [
    "df.boxplot(column='fare_amount')\n",
    "plt.title('Fare amount spread')\n",
    "plt.ylabel('Fare amount')\n",
    "plt.show()"
   ]
  },
  {
   "cell_type": "markdown",
   "metadata": {},
   "source": [
    "The distribution of fare_amount is now clean and ready for usage."
   ]
  },
  {
   "cell_type": "markdown",
   "metadata": {},
   "source": [
    "#### Select only the rows where the trip_distance is smaller than the top_limit and greater than the lower_limit and greater than 0"
   ]
  },
  {
   "cell_type": "code",
   "execution_count": 19,
   "metadata": {},
   "outputs": [],
   "source": [
    "df = df.loc[(df['trip_distance']<trip_top_limit) & (df['trip_distance']>trip_lower_limit) & (df['trip_distance']>0)]"
   ]
  },
  {
   "cell_type": "markdown",
   "metadata": {},
   "source": [
    "Now the outliers for trip_distance are filtred out. Note there is an extra filter: trip_distance > 0 because the soft lower limit is smaller than 0."
   ]
  },
  {
   "cell_type": "markdown",
   "metadata": {},
   "source": [
    "#### Plot the data again: now the data is much more consistent"
   ]
  },
  {
   "cell_type": "code",
   "execution_count": 20,
   "metadata": {
    "scrolled": true
   },
   "outputs": [
    {
     "data": {
      "image/png": "[encoded data removed]",
      "text/plain": [
       "<Figure size 432x288 with 1 Axes>"
      ]
     },
     "metadata": {},
     "output_type": "display_data"
    }
   ],
   "source": [
    "df.boxplot(column='trip_distance')\n",
    "plt.title('Trip distance spread')\n",
    "plt.ylabel('Trip distance')\n",
    "plt.show()"
   ]
  },
  {
   "cell_type": "markdown",
   "metadata": {},
   "source": [
    "The distribution of trip_distance is now clean and ready for usage."
   ]
  },
  {
   "cell_type": "markdown",
   "metadata": {},
   "source": [
    "## 4. Try to plot a histogram of the trip distance distribution. What happens? Try increasing the number of bins, normalizing the data, or using a logarithmic scale in the Y axis to actually see something"
   ]
  },
  {
   "cell_type": "markdown",
   "metadata": {},
   "source": [
    "### Try to plot a histogram of the trip distance distribution."
   ]
  },
  {
   "cell_type": "code",
   "execution_count": 21,
   "metadata": {
    "scrolled": true
   },
   "outputs": [
    {
     "data": {
      "image/png": "[encoded data removed]",
      "text/plain": [
       "<Figure size 432x288 with 1 Axes>"
      ]
     },
     "metadata": {},
     "output_type": "display_data"
    }
   ],
   "source": [
    "df['trip_distance'].plot.hist()\n",
    "plt.xlabel('Trip distance')\n",
    "plt.title('Trip distance distribution 10 bins')\n",
    "plt.show()"
   ]
  },
  {
   "cell_type": "markdown",
   "metadata": {},
   "source": [
    "The count of trip distance descreases exponentially the further the trip is. Note there is a very small amount of very small trip distances."
   ]
  },
  {
   "cell_type": "markdown",
   "metadata": {},
   "source": [
    "### Try increasing the number of bins"
   ]
  },
  {
   "cell_type": "code",
   "execution_count": 22,
   "metadata": {},
   "outputs": [
    {
     "data": {
      "image/png": "[encoded data removed]",
      "text/plain": [
       "<Figure size 432x288 with 1 Axes>"
      ]
     },
     "metadata": {},
     "output_type": "display_data"
    }
   ],
   "source": [
    "df['trip_distance'].plot.hist(bins=20)\n",
    "plt.xlabel('Trip distance')\n",
    "plt.title('Trip distance distribution 20 bins')\n",
    "plt.show()"
   ]
  },
  {
   "cell_type": "markdown",
   "metadata": {},
   "source": [
    "Same as before: the count of trips distance descreases exponentially the further the trip is. Note there is a very small amount of very small trip distances."
   ]
  },
  {
   "cell_type": "markdown",
   "metadata": {},
   "source": [
    "### Normalizing the data"
   ]
  },
  {
   "cell_type": "code",
   "execution_count": 23,
   "metadata": {},
   "outputs": [
    {
     "data": {
      "image/png": "[encoded data removed]",
      "text/plain": [
       "<Figure size 432x288 with 1 Axes>"
      ]
     },
     "metadata": {},
     "output_type": "display_data"
    }
   ],
   "source": [
    "df['trip_distance'].plot.hist(density=True)\n",
    "plt.xlabel('Trip distance')\n",
    "plt.title('Trip distance distribution normalized')\n",
    "plt.show()"
   ]
  },
  {
   "cell_type": "markdown",
   "metadata": {},
   "source": [
    "Same as before: the count of trips distance descreases exponentially the further the trip is. Note there is a very small amount of very small trip distances."
   ]
  },
  {
   "cell_type": "markdown",
   "metadata": {},
   "source": [
    "### Using a logarithmic scale in the Y axis"
   ]
  },
  {
   "cell_type": "code",
   "execution_count": 24,
   "metadata": {},
   "outputs": [
    {
     "data": {
      "image/png": "[encoded data removed]",
      "text/plain": [
       "<Figure size 432x288 with 1 Axes>"
      ]
     },
     "metadata": {},
     "output_type": "display_data"
    }
   ],
   "source": [
    "ax = df['trip_distance'].plot.hist()\n",
    "ax.set_yscale('log')\n",
    "plt.xlabel('Trip distance')\n",
    "plt.title('Trip distance distribution logarithmic y scale')\n",
    "plt.show()"
   ]
  },
  {
   "cell_type": "markdown",
   "metadata": {},
   "source": [
    "The count of trips descreases in a steady way the further the distance is not in an exponential way as before. Note there is a very small amount of very small trip distances."
   ]
  },
  {
   "cell_type": "markdown",
   "metadata": {},
   "source": [
    "## 5. What is the median trip distance per passenger count? Represent it in text and graphical form"
   ]
  },
  {
   "cell_type": "markdown",
   "metadata": {},
   "source": [
    "### Text representation"
   ]
  },
  {
   "cell_type": "code",
   "execution_count": 25,
   "metadata": {},
   "outputs": [
    {
     "name": "stdout",
     "output_type": "stream",
     "text": [
      "passenger_count\n",
      "0    1.400\n",
      "1    1.470\n",
      "2    1.500\n",
      "3    1.510\n",
      "4    1.560\n",
      "5    1.510\n",
      "6    1.490\n",
      "7    0.305\n",
      "8    1.800\n",
      "9    0.800\n",
      "Name: trip_distance, dtype: float64\n"
     ]
    }
   ],
   "source": [
    "median_dis_per_pass_count = df.groupby('passenger_count')['trip_distance'].median()\n",
    "print(median_dis_per_pass_count)"
   ]
  },
  {
   "cell_type": "markdown",
   "metadata": {},
   "source": [
    "### Graphical representation"
   ]
  },
  {
   "cell_type": "code",
   "execution_count": 26,
   "metadata": {},
   "outputs": [
    {
     "data": {
      "image/png": "[encoded data removed]",
      "text/plain": [
       "<Figure size 432x288 with 1 Axes>"
      ]
     },
     "metadata": {},
     "output_type": "display_data"
    }
   ],
   "source": [
    "median_dis_per_pass_count.plot.bar(rot=0)\n",
    "plt.title('The median trip distance per passenger_count')\n",
    "plt.ylabel('Median trip distance')\n",
    "plt.show()"
   ]
  },
  {
   "cell_type": "markdown",
   "metadata": {},
   "source": [
    "## 6. Create a new column payment_type_text that is 'Cash' if payment_type is 2 and 'Other' otherwise"
   ]
  },
  {
   "cell_type": "code",
   "execution_count": 27,
   "metadata": {},
   "outputs": [
    {
     "name": "stdout",
     "output_type": "stream",
     "text": [
      "   payment_type payment_type_text\n",
      "0             2              Cash\n",
      "1             1             Other\n",
      "2             1             Other\n",
      "3             1             Other\n",
      "4             1             Other\n",
      "5             2              Cash\n",
      "6             1             Other\n",
      "7             2              Cash\n",
      "8             1             Other\n",
      "9             1             Other\n"
     ]
    }
   ],
   "source": [
    "df['payment_type_text'] = df['payment_type'].apply(lambda x: 'Cash' if x == 2 else 'Other')\n",
    "print(df[['payment_type', 'payment_type_text']].head(10))"
   ]
  },
  {
   "cell_type": "markdown",
   "metadata": {},
   "source": [
    "## 7. Bonus points: what is the correlation between leaving no tip and paying with cash?"
   ]
  },
  {
   "cell_type": "markdown",
   "metadata": {},
   "source": [
    "This is the correlation between paying cash and tip amount equal to 0."
   ]
  },
  {
   "cell_type": "code",
   "execution_count": 28,
   "metadata": {},
   "outputs": [
    {
     "name": "stdout",
     "output_type": "stream",
     "text": [
      "The correlation between no tip and paying cash = 0.9291865438474302\n"
     ]
    }
   ],
   "source": [
    "print('The correlation between no tip and paying cash = {}'.format(\n",
    "    (df['payment_type'] == 2).corr(df['tip_amount'] == 0)))"
   ]
  },
  {
   "cell_type": "markdown",
   "metadata": {},
   "source": [
    "The correlation between paying cash and leaving no tip is strongly positive because the value is nearly 1 and thus strongly positive related."
   ]
  },
  {
   "cell_type": "markdown",
   "metadata": {},
   "source": [
    "## NOT IMPORTANT: Additional info question 7"
   ]
  },
  {
   "cell_type": "code",
   "execution_count": 29,
   "metadata": {
    "scrolled": true
   },
   "outputs": [
    {
     "data": {
      "text/plain": [
       "payment_type_text\n",
       "Cash     0.000003\n",
       "Other    2.056176\n",
       "Name: tip_amount, dtype: float64"
      ]
     },
     "execution_count": 29,
     "metadata": {},
     "output_type": "execute_result"
    }
   ],
   "source": [
    "df.groupby('payment_type_text')['tip_amount'].mean()"
   ]
  },
  {
   "cell_type": "markdown",
   "metadata": {},
   "source": [
    "In comparison to people who use the 'Other' payment method people who pay 'Cash' don't give a lot of tip on average."
   ]
  },
  {
   "cell_type": "markdown",
   "metadata": {},
   "source": [
    "### Display the percentage of people who pay cash and don't give a tip"
   ]
  },
  {
   "cell_type": "code",
   "execution_count": 30,
   "metadata": {},
   "outputs": [
    {
     "name": "stdout",
     "output_type": "stream",
     "text": [
      "Percentage of people who pay cash and don't give a tip = 99.9999%\n"
     ]
    }
   ],
   "source": [
    "count_no_tip_cash = len(df.loc[(df['tip_amount'] == 0) & (df['payment_type_text'] == 'Cash')])\n",
    "count_cash = len(df.loc[df['payment_type_text'] == 'Cash'])\n",
    "print('Percentage of people who pay cash and don\\'t give a tip = {:.4%}'.format(count_no_tip_cash/count_cash))"
   ]
  },
  {
   "cell_type": "markdown",
   "metadata": {},
   "source": [
    "People who pay cash give 99.9999% of the times no tip"
   ]
  },
  {
   "cell_type": "markdown",
   "metadata": {},
   "source": [
    "### Display the percentage of people who pay with another payment method and don't give a tip"
   ]
  },
  {
   "cell_type": "code",
   "execution_count": 31,
   "metadata": {},
   "outputs": [
    {
     "name": "stdout",
     "output_type": "stream",
     "text": [
      "Percentage of people who pay with another payment method and don't give a tip = 4.8168%\n"
     ]
    }
   ],
   "source": [
    "count_no_tip_oth = len(df.loc[(df['tip_amount'] == 0) & (df['payment_type_text'] == 'Other')])\n",
    "count_oth = len(df.loc[df['payment_type_text'] == 'Other'])\n",
    "print('Percentage of people who pay with another payment method and don\\'t give a tip = {:.4%}'.format(count_no_tip_oth/count_oth))"
   ]
  },
  {
   "cell_type": "markdown",
   "metadata": {},
   "source": [
    "People who use the 'Other' payment method pay 4.8168% of the times no tip."
   ]
  },
  {
   "cell_type": "markdown",
   "metadata": {},
   "source": [
    "The people who pay 'Cash' give 99.9999% of the times no tip vs. 4.8168% for the 'Other' payment method. Thus people who pay 'Cash' don't give that often a tip in comparison to people who use the 'Other' payment method"
   ]
  }
 ],
 "metadata": {
  "kernelspec": {
   "display_name": "Python 3",
   "language": "python",
   "name": "python3"
  },
  "language_info": {
   "codemirror_mode": {
    "name": "ipython",
    "version": 3
   },
   "file_extension": ".py",
   "mimetype": "text/x-python",
   "name": "python",
   "nbconvert_exporter": "python",
   "pygments_lexer": "ipython3",
   "version": "3.7.1"
  }
 },
 "nbformat": 4,
 "nbformat_minor": 2
}
